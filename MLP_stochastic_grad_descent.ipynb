{
  "nbformat": 4,
  "nbformat_minor": 0,
  "metadata": {
    "colab": {
      "provenance": [],
      "gpuType": "T4",
      "authorship_tag": "ABX9TyN8IoB4jsRPya5AltwWdmwQ"
    },
    "kernelspec": {
      "name": "python3",
      "display_name": "Python 3"
    },
    "language_info": {
      "name": "python"
    },
    "accelerator": "GPU"
  },
  "cells": [
    {
      "cell_type": "markdown",
      "source": [
        "In this notebook I am trying to create a Multi-layer perceptron from scratch, meaning I will only use numPy for creating and training the NN.\n",
        "\n",
        "The goal with this project is to learn how a MLP \"learns\" and to understand the calculus behind basic concepts in deep learning, like gradient descent and back-propagation."
      ],
      "metadata": {
        "id": "imE2DcBPsHBL"
      }
    },
    {
      "cell_type": "code",
      "source": [
        "import numpy as np\n",
        "import keras\n",
        "import matplotlib.pyplot as plt\n",
        "%matplotlib inline"
      ],
      "metadata": {
        "id": "BrrPlEPTsgKi"
      },
      "execution_count": 1,
      "outputs": []
    },
    {
      "cell_type": "code",
      "source": [
        "# create training and testing arrays\n",
        "\n",
        "(x_train,y_train), (x_test,y_test) = keras.datasets.mnist.load_data()\n",
        "\n",
        "# normalize pixel values to 0-1\n",
        "\n",
        "x_train = x_train/255\n",
        "x_test = x_test/255"
      ],
      "metadata": {
        "colab": {
          "base_uri": "https://localhost:8080/"
        },
        "id": "4XAbiwI9swLb",
        "outputId": "036f9f06-2633-42fb-b3ba-bac7cbdc8966"
      },
      "execution_count": 2,
      "outputs": [
        {
          "output_type": "stream",
          "name": "stdout",
          "text": [
            "Downloading data from https://storage.googleapis.com/tensorflow/tf-keras-datasets/mnist.npz\n",
            "11490434/11490434 [==============================] - 0s 0us/step\n"
          ]
        }
      ]
    },
    {
      "cell_type": "code",
      "source": [
        "# constants\n",
        "HIDDEN_LAYER_NEURONS = 16\n",
        "TRAINING_SIZE = 60000\n",
        "LEARN_RATE = 0.01  # Reduced learning rate\n",
        "\n",
        "def sigmoid(x):\n",
        "  return 1/(1+np.exp(-(x)))\n",
        "\n",
        "def d_sigmoid(x):\n",
        "  return sigmoid(x)*(1-sigmoid(x))\n",
        "\n",
        "def cost_fn(y_hat,y):\n",
        "  return (y_hat-y)**2\n",
        "\n",
        "def d_cost_fn(y_hat,y):\n",
        "  return 2*(y_hat-y)"
      ],
      "metadata": {
        "id": "1Yne1P37yXAw"
      },
      "execution_count": 3,
      "outputs": []
    },
    {
      "cell_type": "code",
      "source": [
        "# create variables\n",
        "\n",
        "# we are creating a 1 hidden layer MLP\n",
        "hidden_layer_activation = np.random.rand(HIDDEN_LAYER_NEURONS)\n",
        "hidden_layer_z = np.random.rand(HIDDEN_LAYER_NEURONS)\n",
        "\n",
        "# neuron biases\n",
        "hidden_biases = np.random.randn(HIDDEN_LAYER_NEURONS) * 0.01\n",
        "output_biases = np.random.randn(10) * 0.01\n",
        "\n",
        "# weight matrix\n",
        "input_weights = np.random.randn(HIDDEN_LAYER_NEURONS,784) * 0.01\n",
        "output_weights = np.random.randn(10,HIDDEN_LAYER_NEURONS) * 0.01\n",
        "\n",
        "# deltas\n",
        "delta_w0 = np.zeros((784,HIDDEN_LAYER_NEURONS))\n",
        "delta_w1 = np.zeros((HIDDEN_LAYER_NEURONS,10))\n",
        "delta_b0 = np.zeros(HIDDEN_LAYER_NEURONS)\n",
        "delta_b1 = np.zeros(10)\n",
        "\n",
        "# output layer\n",
        "y_hat = np.zeros(10)\n",
        "y_hat_z = np.zeros(10)"
      ],
      "metadata": {
        "id": "bGIrf29ewiHv"
      },
      "execution_count": 4,
      "outputs": []
    },
    {
      "cell_type": "code",
      "source": [
        "# training\n",
        "\n",
        "cost = 0\n",
        "cost_arr = []\n",
        "\n",
        "for i in range(0,TRAINING_SIZE):\n",
        "  # feed forward\n",
        "  input_layer = x_train[i].reshape(784)\n",
        "\n",
        "  hidden_layer_z = np.dot(input_weights,input_layer)+hidden_biases\n",
        "  hidden_layer_activation = sigmoid(hidden_layer_z)\n",
        "\n",
        "  y_hat_z = np.dot(output_weights,hidden_layer_activation)+output_biases\n",
        "  y_hat = sigmoid(y_hat_z)\n",
        "\n",
        "  y = np.zeros(10)\n",
        "  y[y_train[i]] = 1\n",
        "\n",
        "  cost = cost_fn(y_hat,y)\n",
        "\n",
        "  # backpropagation\n",
        "  delta = d_cost_fn(y_hat,y)*d_sigmoid(y_hat_z)\n",
        "\n",
        "  delta_b1 = delta\n",
        "  delta_w1 = np.dot(delta.reshape(10,1),hidden_layer_activation.reshape(1,16))\n",
        "\n",
        "  delta = np.dot(delta,output_weights)*d_sigmoid(hidden_layer_z)\n",
        "\n",
        "  delta_b0 = delta\n",
        "  delta_w0 = np.dot(delta.reshape(16,1),input_layer.reshape(1,784))\n",
        "\n",
        "  hidden_biases -= delta_b0 * LEARN_RATE\n",
        "  output_biases -= delta_b1 * LEARN_RATE\n",
        "  input_weights -= delta_w0 * LEARN_RATE\n",
        "  output_weights -= delta_w1 * LEARN_RATE\n",
        "\n",
        "  cost_arr.append(np.sum(cost))\n",
        "\n",
        "plt.plot(cost_arr)\n",
        "plt.show"
      ],
      "metadata": {
        "colab": {
          "base_uri": "https://localhost:8080/",
          "height": 599
        },
        "id": "4wBo_xup6XHo",
        "outputId": "6298c9a6-3d8d-4a5c-d893-d01b1c68fc75"
      },
      "execution_count": 5,
      "outputs": [
        {
          "output_type": "execute_result",
          "data": {
            "text/plain": [
              "<function matplotlib.pyplot.show(close=None, block=None)>"
            ],
            "text/html": [
              "<div style=\"max-width:800px; border: 1px solid var(--colab-border-color);\"><style>\n",
              "      pre.function-repr-contents {\n",
              "        overflow-x: auto;\n",
              "        padding: 8px 12px;\n",
              "        max-height: 500px;\n",
              "      }\n",
              "\n",
              "      pre.function-repr-contents.function-repr-contents-collapsed {\n",
              "        cursor: pointer;\n",
              "        max-height: 100px;\n",
              "      }\n",
              "    </style>\n",
              "    <pre style=\"white-space: initial; background:\n",
              "         var(--colab-secondary-surface-color); padding: 8px 12px;\n",
              "         border-bottom: 1px solid var(--colab-border-color);\"><b>matplotlib.pyplot.show</b><br/>def show(*args, **kwargs)</pre><pre class=\"function-repr-contents function-repr-contents-collapsed\" style=\"\"><a class=\"filepath\" style=\"display:none\" href=\"#\">/usr/local/lib/python3.10/dist-packages/matplotlib/pyplot.py</a>Display all open figures.\n",
              "\n",
              "Parameters\n",
              "----------\n",
              "block : bool, optional\n",
              "    Whether to wait for all figures to be closed before returning.\n",
              "\n",
              "    If `True` block and run the GUI main loop until all figure windows\n",
              "    are closed.\n",
              "\n",
              "    If `False` ensure that all figure windows are displayed and return\n",
              "    immediately.  In this case, you are responsible for ensuring\n",
              "    that the event loop is running to have responsive figures.\n",
              "\n",
              "    Defaults to True in non-interactive mode and to False in interactive\n",
              "    mode (see `.pyplot.isinteractive`).\n",
              "\n",
              "See Also\n",
              "--------\n",
              "ion : Enable interactive mode, which shows / updates the figure after\n",
              "      every plotting command, so that calling ``show()`` is not necessary.\n",
              "ioff : Disable interactive mode.\n",
              "savefig : Save the figure to an image file instead of showing it on screen.\n",
              "\n",
              "Notes\n",
              "-----\n",
              "**Saving figures to file and showing a window at the same time**\n",
              "\n",
              "If you want an image file as well as a user interface window, use\n",
              "`.pyplot.savefig` before `.pyplot.show`. At the end of (a blocking)\n",
              "``show()`` the figure is closed and thus unregistered from pyplot. Calling\n",
              "`.pyplot.savefig` afterwards would save a new and thus empty figure. This\n",
              "limitation of command order does not apply if the show is non-blocking or\n",
              "if you keep a reference to the figure and use `.Figure.savefig`.\n",
              "\n",
              "**Auto-show in jupyter notebooks**\n",
              "\n",
              "The jupyter backends (activated via ``%matplotlib inline``,\n",
              "``%matplotlib notebook``, or ``%matplotlib widget``), call ``show()`` at\n",
              "the end of every cell by default. Thus, you usually don&#x27;t have to call it\n",
              "explicitly there.</pre>\n",
              "      <script>\n",
              "      if (google.colab.kernel.accessAllowed && google.colab.files && google.colab.files.view) {\n",
              "        for (const element of document.querySelectorAll('.filepath')) {\n",
              "          element.style.display = 'block'\n",
              "          element.onclick = (event) => {\n",
              "            event.preventDefault();\n",
              "            event.stopPropagation();\n",
              "            google.colab.files.view(element.textContent, 401);\n",
              "          };\n",
              "        }\n",
              "      }\n",
              "      for (const element of document.querySelectorAll('.function-repr-contents')) {\n",
              "        element.onclick = (event) => {\n",
              "          event.preventDefault();\n",
              "          event.stopPropagation();\n",
              "          element.classList.toggle('function-repr-contents-collapsed');\n",
              "        };\n",
              "      }\n",
              "      </script>\n",
              "      </div>"
            ]
          },
          "metadata": {},
          "execution_count": 5
        },
        {
          "output_type": "display_data",
          "data": {
            "text/plain": [
              "<Figure size 640x480 with 1 Axes>"
            ],
            "image/png": "[encoded data removed]"
          },
          "metadata": {}
        }
      ]
    },
    {
      "cell_type": "code",
      "source": [
        "# evaluate\n",
        "test_results = []\n",
        "\n",
        "for i in range(0,x_test.shape[0]):\n",
        "  input_layer = x_test[i].reshape(784)\n",
        "\n",
        "  hidden_layer_z = np.dot(input_weights,input_layer)+hidden_biases\n",
        "  hidden_layer_activation = sigmoid(hidden_layer_z)\n",
        "\n",
        "  y_hat_z = np.dot(output_weights,hidden_layer_activation)+output_biases\n",
        "  y_hat = sigmoid(y_hat_z)\n",
        "\n",
        "  y = y_test[i]\n",
        "\n",
        "  test_results.append((np.argmax(y_hat),y))\n",
        "\n",
        "print(f'{sum(int(x == y) for (x, y) in test_results)/y_test.shape[0]*100}% accuracy')"
      ],
      "metadata": {
        "colab": {
          "base_uri": "https://localhost:8080/"
        },
        "id": "zRfqTT9XSlm_",
        "outputId": "d59def17-1450-4e31-cbfb-2917f757aebd"
      },
      "execution_count": 6,
      "outputs": [
        {
          "output_type": "stream",
          "name": "stdout",
          "text": [
            "87.55% accuracy\n"
          ]
        }
      ]
    }
  ]
}